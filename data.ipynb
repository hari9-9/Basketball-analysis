{
 "cells": [
  {
   "cell_type": "markdown",
   "metadata": {},
   "source": [
    "# Installing packages\n"
   ]
  },
  {
   "cell_type": "code",
   "execution_count": 3,
   "metadata": {},
   "outputs": [],
   "source": [
    "import numpy as np\n",
    "import pandas as pd\n",
    "import matplotlib.pyplot as plt\n",
    "import seaborn as sns\n",
    "import numpy as np\n",
    "import matplotlib.pyplot as plt\n",
    "import csv\n",
    "import itertools"
   ]
  },
  {
   "cell_type": "markdown",
   "metadata": {},
   "source": [
    "# reading data into a datframe and creating an empty dicitionary to store results"
   ]
  },
  {
   "cell_type": "code",
   "execution_count": 5,
   "metadata": {},
   "outputs": [],
   "source": [
    "merits={}\n",
    "train=pd.read_csv('/Users/MAHE/Desktop/programming/machinelearning/basketball/shot_logs.csv')"
   ]
  },
  {
   "cell_type": "markdown",
   "metadata": {},
   "source": [
    "# filtering data by dropping all N/A values and subsetting entries only for players- Steph Curry and Klay Thompson"
   ]
  },
  {
   "cell_type": "code",
   "execution_count": 9,
   "metadata": {},
   "outputs": [
    {
     "output_type": "stream",
     "name": "stdout",
     "text": "GAME_ID                     MATCHUP LOCATION  W  FINAL_MARGIN  \\\n14054  21400907  MAR 04, 2015 - GSW vs. MIL        H  W             9   \n14055  21400907  MAR 04, 2015 - GSW vs. MIL        H  W             9   \n14056  21400907  MAR 04, 2015 - GSW vs. MIL        H  W             9   \n14057  21400907  MAR 04, 2015 - GSW vs. MIL        H  W             9   \n14058  21400907  MAR 04, 2015 - GSW vs. MIL        H  W             9   \n\n       SHOT_NUMBER  PERIOD GAME_CLOCK  SHOT_CLOCK  DRIBBLES  ...  SHOT_DIST  \\\n14054            1       1       9:49        16.3         2  ...        8.0   \n14055            2       1       7:26        16.6         0  ...       25.9   \n14056            3       1       5:34        11.0         0  ...       23.8   \n14057            4       1       5:00        18.5         2  ...       27.5   \n14058            5       1       3:33         NaN         1  ...       29.3   \n\n       PTS_TYPE  SHOT_RESULT          CLOSEST_DEFENDER  \\\n14054         2       missed    Antetokounmpo, Giannis   \n14055         3       missed  Carter-Williams, Michael   \n14056         3         made           Ilyasova, Ersan   \n14057         3         made  Carter-Williams, Michael   \n14058         3       missed            Pachulia, Zaza   \n\n      CLOSEST_DEFENDER_PLAYER_ID  CLOSE_DEF_DIST  FGM  PTS    player_name  \\\n14054                     203507             2.5    0    0  stephen curry   \n14055                     203487             3.0    0    0  stephen curry   \n14056                     101141             7.5    1    3  stephen curry   \n14057                     203487             6.4    1    3  stephen curry   \n14058                       2585             6.4    0    0  stephen curry   \n\n      player_id  \n14054    201939  \n14055    201939  \n14056    201939  \n14057    201939  \n14058    201939  \n\n[5 rows x 21 columns]\n"
    }
   ],
   "source": [
    "train.dropna()\n",
    "train= train[(train['player_name']=='stephen curry') | (train['player_name']=='klay thompson')]\n",
    "#print(train.head())"
   ]
  },
  {
   "cell_type": "code",
   "execution_count": null,
   "metadata": {},
   "outputs": [],
   "source": []
  }
 ],
 "metadata": {
  "kernelspec": {
   "display_name": "Python 3.8.2 64-bit",
   "language": "python",
   "name": "python38264bitad15d5fd76174a87b815b6042289c28b"
  },
  "language_info": {
   "codemirror_mode": {
    "name": "ipython",
    "version": 3
   },
   "file_extension": ".py",
   "mimetype": "text/x-python",
   "name": "python",
   "nbconvert_exporter": "python",
   "pygments_lexer": "ipython3",
   "version": "3.8.2-final"
  }
 },
 "nbformat": 4,
 "nbformat_minor": 4
}