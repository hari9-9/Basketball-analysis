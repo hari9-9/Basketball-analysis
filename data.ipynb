{
 "cells": [
  {
   "cell_type": "markdown",
   "metadata": {},
   "source": [
    "# Installing packages\n"
   ]
  },
  {
   "cell_type": "code",
   "execution_count": 1,
   "metadata": {},
   "outputs": [],
   "source": [
    "import numpy as np\n",
    "import pandas as pd\n",
    "import matplotlib.pyplot as plt\n",
    "import seaborn as sns\n",
    "import numpy as np\n",
    "import matplotlib.pyplot as plt\n",
    "import csv\n",
    "import itertools"
   ]
  },
  {
   "cell_type": "markdown",
   "metadata": {},
   "source": [
    "# reading data into a datframe and creating an empty dicitionary to store results"
   ]
  },
  {
   "cell_type": "code",
   "execution_count": 2,
   "metadata": {},
   "outputs": [],
   "source": [
    "merits={}\n",
    "train=pd.read_csv('/Users/MAHE/Desktop/programming/machinelearning/basketball/shot_logs.csv')"
   ]
  },
  {
   "cell_type": "markdown",
   "metadata": {},
   "source": [
    "# filtering data by dropping all N/A values and subsetting entries only for players- Steph Curry and Klay Thompson"
   ]
  },
  {
   "cell_type": "code",
   "execution_count": 3,
   "metadata": {},
   "outputs": [],
   "source": [
    "train.dropna()\n",
    "train= train[(train['player_name']=='stephen curry') | (train['player_name']=='klay thompson')]\n",
    "curry_data = train[(train['player_name']=='stephen curry')]\n",
    "klay_data = train[(train['player_name']=='klay thompson')]"
   ]
  },
  {
   "cell_type": "markdown",
   "metadata": {},
   "source": [
    "## To determine better shooter overall"
   ]
  },
  {
   "cell_type": "code",
   "execution_count": null,
   "metadata": {},
   "outputs": [],
   "source": [
    "count_makes_curry=len(curry_data[curry_data['FGM']==1])\n",
    "count_misses_curry=len(curry_data[curry_data['FGM']==0])\n",
    "fgm_percentage_curry=(count_makes_curry/(count_makes_curry+count_misses_curry))*100\n",
    "print(\"Currys field goal pecentage is \",fgm_percentage_curry)\n",
    "count_makes_klay=len(klay_data[klay_data['FGM']==1])\n",
    "count_misses_klay=len(klay_data[klay_data['FGM']==0])\n",
    "fgm_percentage_klay=(count_makes_klay/(count_makes_klay+count_misses_klay))*100\n",
    "print(\"Klays field goal pecentage is \",fgm_percentage_klay)\n",
    "if fgm_percentage_curry>fgm_percentage_klay:\n",
    "    merits['Overall shooter:']=['Stephen Curry',fgm_percentage_curry,fgm_percentage_klay]\n",
    "else:\n",
    "    merits['Overall shooter:']=['Klay Thompson',fgm_percentage_curry,fgm_percentage_klay]"
   ]
  }
 ],
 "metadata": {
  "kernelspec": {
   "display_name": "Python 3.8.2 64-bit",
   "language": "python",
   "name": "python38264bitad15d5fd76174a87b815b6042289c28b"
  },
  "language_info": {
   "codemirror_mode": {
    "name": "ipython",
    "version": 3
   },
   "file_extension": ".py",
   "mimetype": "text/x-python",
   "name": "python",
   "nbconvert_exporter": "python",
   "pygments_lexer": "ipython3",
   "version": "3.8.2-final"
  }
 },
 "nbformat": 4,
 "nbformat_minor": 4
}